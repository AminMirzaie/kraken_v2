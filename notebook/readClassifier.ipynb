{
 "cells": [
  {
   "cell_type": "markdown",
   "metadata": {},
   "source": [
    "### for input of this notebook I used iss package to generate noisy reads (from Novaseq technology) for each genomes and Store that in Fastq file.then I get sample from each of thiese fasq file with this ratio:"
   ]
  },
  {
   "cell_type": "code",
   "execution_count": 51,
   "metadata": {},
   "outputs": [
    {
     "name": "stdout",
     "output_type": "stream",
     "text": [
      "('1198114', 0.006191332135010984)\n",
      "('1592106', 0.030956660675054922)\n",
      "('1855912', 0.17954863191531856)\n",
      "('204669', 0.03435190732973836)\n",
      "('2211140', 0.24246055522268822)\n",
      "('234267', 0.1487916916317156)\n",
      "('240015', 0.07629318953465149)\n",
      "('401053', 0.07070101857399641)\n",
      "('682795', 0.09366886359097264)\n",
      "('926566', 0.06031555821849411)\n",
      "('981222', 0.0567205911723587)\n"
     ]
    }
   ],
   "source": [
    "import pickle\n",
    "with open('../sampleFastqFile/dist.pickle', 'rb') as handle:\n",
    "    b = pickle.load(handle)\n",
    "raw = sum(b.values())\n",
    "factor = 1/raw\n",
    "realAbundaniesOfFile = {key:value*factor for key,value in b.iteritems()}\n",
    "for i in sorted (realAbundaniesOfFile) : \n",
    "    print ((i, realAbundaniesOfFile[i])) "
   ]
  },
  {
   "cell_type": "markdown",
   "metadata": {},
   "source": [
    "### now the goal is using the index file and fastq file we reach this ratio and evaluate our tool\n",
    "## importing libraries:"
   ]
  },
  {
   "cell_type": "code",
   "execution_count": 52,
   "metadata": {},
   "outputs": [],
   "source": [
    "import glob\n",
    "from ete3 import NCBITaxa\n",
    "import ete3.treeview\n",
    "import random\n",
    "import mmh3\n",
    "import h5py\n",
    "import numpy as np\n",
    "import operator\n",
    "import sys\n",
    "from collections import Counter\n",
    "import matplotlib.pyplot as plt\n",
    "import time"
   ]
  },
  {
   "cell_type": "markdown",
   "metadata": {},
   "source": [
    "these functions explained in last notebook. we use the to compute hash,minimizer and other things that we need in this notebook"
   ]
  },
  {
   "cell_type": "code",
   "execution_count": 53,
   "metadata": {},
   "outputs": [],
   "source": [
    "def getHashedMinimizer(minimizer):\n",
    "    return mmh3.hash(minimizer,seed=2,signed=True)\n",
    "def getHashedKmer(kmer):\n",
    "    return mmh3.hash(kmer,seed=1,signed=True)\n",
    "def getMinimizer(seq,const):\n",
    "    rev=seq[::-1]\n",
    "    rev=rev.replace(\"A\",\"X\")\n",
    "    rev=rev.replace(\"T\",\"A\")\n",
    "    rev=rev.replace(\"X\",\"T\")\n",
    "    rev=rev.replace(\"C\",\"X\")\n",
    "    rev=rev.replace(\"G\",\"C\")\n",
    "    rev=rev.replace(\"X\",\"G\")\n",
    "    Kmer=len(seq)\n",
    "    M= (Kmer/5) +1\n",
    "    L=len(seq)\n",
    "    min=int(''.join([\"{}\".format(random.randint(9, 9)) for num in range(0, M)]))\n",
    "    for j in range(0, Kmer-M+1):\n",
    "        if j == 0:\n",
    "            sub2=seq[j:j+M]\n",
    "            if getNum(sub2,const) < min:\n",
    "                min=sub2\n",
    "            sub2=rev[j:j+M]\n",
    "            if getNum(sub2,const) < min:\n",
    "                min=sub2\n",
    "        else:\n",
    "            sub2=seq[j:j+M]\n",
    "            if getNum(sub2,const) < getNum(min,const):\n",
    "                min=sub2\n",
    "            sub2=rev[j:j+M]\n",
    "            if getNum(sub2,const) < getNum(min,const):\n",
    "                min=sub2\n",
    "    return min\n",
    "def getNum(st,const):\n",
    "    conv = {\"A\":1,\"C\":2,\"G\":3,\"T\":4}\n",
    "    temp = 0\n",
    "    l = len(st)\n",
    "    for i in range(len(st)):\n",
    "        temp+=conv[st[i]]*(10**(l-i-1))\n",
    "    return int((temp ^ const%(10**(len(st)))))\n",
    "\n",
    "def updateMinimizer(seq,oldseq,minimizer,const):\n",
    "    revseq=seq[::-1]\n",
    "    revseq=revseq.replace(\"A\",\"X\")\n",
    "    revseq=revseq.replace(\"T\",\"A\")\n",
    "    revseq=revseq.replace(\"X\",\"T\")\n",
    "    revseq=revseq.replace(\"C\",\"X\")\n",
    "    revseq=revseq.replace(\"G\",\"C\")\n",
    "    revseq=revseq.replace(\"X\",\"G\")\n",
    "    Kmer=len(seq)\n",
    "    M= (Kmer/5) +1\n",
    "    firstMinimizerOfOld = oldseq[0:M]\n",
    "    revseqOld=firstMinimizerOfOld[::-1]\n",
    "    revseqOld=revseqOld.replace(\"A\",\"X\")\n",
    "    revseqOld=revseqOld.replace(\"T\",\"A\")\n",
    "    revseqOld=revseqOld.replace(\"X\",\"T\")\n",
    "    revseqOld=revseqOld.replace(\"C\",\"X\")\n",
    "    revseqOld=revseqOld.replace(\"G\",\"C\")\n",
    "    revseqOld=revseqOld.replace(\"X\",\"G\")\n",
    "    L=len(seq)\n",
    "    end_f = seq[L-M:L]\n",
    "    start_f = seq[0:M]\n",
    "    end_r = revseq[L-M:L]\n",
    "    start_r = revseq[0:M]\n",
    "    minNum = getNum(minimizer,const)    \n",
    "    if (getNum(revseqOld,const) == minNum) or (getNum(firstMinimizerOfOld,const) == minNum):\n",
    "        if(getMinimizer(seq,const) == minNum):\n",
    "            return False,minimizer\n",
    "        else:\n",
    "            return True,getMinimizer(seq,const)\n",
    "    flag = False\n",
    "    if (getNum(end_f,const) < minNum):\n",
    "        minimizer = end_f\n",
    "    if(getNum(start_r,const) < minNum):\n",
    "        flag = True\n",
    "        minimizer = start_r\n",
    "    return flag,minimizer\n",
    "\n",
    "def getLCA(listOfTaxids,tree):\n",
    "    if len(listOfTaxids)==1:\n",
    "        return listOfTaxids[0]\n",
    "    else:\n",
    "        return int(tree.get_common_ancestor(listOfTaxids).name)\n",
    "\n",
    "random.seed(1)\n",
    "n = 31\n",
    "const = int(''.join([\"{}\".format(random.randint(0, 9)) for num in range(0, n)]))"
   ]
  },
  {
   "cell_type": "markdown",
   "metadata": {},
   "source": [
    "## the tree of these 11 genomes is look like this:"
   ]
  },
  {
   "cell_type": "code",
   "execution_count": 54,
   "metadata": {},
   "outputs": [
    {
     "name": "stdout",
     "output_type": "stream",
     "text": [
      "\n",
      "                       /-1592106\n",
      "                      |\n",
      "                 /392733-401053\n",
      "                |     |\n",
      "                |      \\-926566\n",
      "                |\n",
      "                |      /-1198114\n",
      "                |-940557\n",
      "           /204434     \\-682795\n",
      "          |     |\n",
      "          |     |--2211140\n",
      "          |     |\n",
      "     /204432    |--240015\n",
      "    |     |     |\n",
      "    |     |      \\-204669\n",
      "    |     |\n",
      "-57723     \\-234267\n",
      "    |\n",
      "    |--981222\n",
      "    |\n",
      "     \\-1855912\n"
     ]
    }
   ],
   "source": [
    "fileNames = (glob.glob(\"../genomes/*.fq\"))\n",
    "ncbi = NCBITaxa()\n",
    "ParentNode=\"Acidobacteria\" #inja ro bayad karbar bde az kojaye derakht b paeen mikhad\n",
    "ParentTaxid = ncbi.get_name_translator([ParentNode])[ParentNode][0]\n",
    "tree = ncbi.get_descendant_taxa(ParentNode, return_tree=True)\n",
    "taxids =[]\n",
    "for PathFilename in fileNames:\n",
    "    taxid = int(PathFilename.split(\"_\")[0].split(\"/\")[2])\n",
    "    taxids.append(taxid)\n",
    "tree =ncbi.get_topology(taxids)\n",
    "print tree.get_ascii(attributes=[\"name\"])"
   ]
  },
  {
   "cell_type": "markdown",
   "metadata": {},
   "source": [
    "### for each read we should find it's kmers and for each kmer we should find minimizers then we look at index file and find the taxid related to that kmer. then in above tree we adding score of that node by one\n",
    "for example if for 1 kmer the taxid in index file become 204432 we do this using these functions:"
   ]
  },
  {
   "cell_type": "code",
   "execution_count": 55,
   "metadata": {},
   "outputs": [],
   "source": [
    "def findNodeWithTaxid(taxid,tree):\n",
    "    return tree.search_nodes(name=str(taxid))[0]\n",
    "\n",
    "def getValueOfNode(Node):\n",
    "    try:\n",
    "        if Node.value > -1:\n",
    "            return Node.value\n",
    "    except AttributeError:\n",
    "        return 0\n",
    "\n",
    "def updateValueOfNode(tree,taxid):\n",
    "    Node = findNodeWithTaxid(taxid,tree)\n",
    "    try:\n",
    "        Node.value += 1\n",
    "    except AttributeError:\n",
    "        Node.value = 1\n",
    "def findRTLs(tree):\n",
    "    RTLpoints = {}\n",
    "    for node in tree.traverse(\"preorder\"):\n",
    "        if node.is_leaf():\n",
    "            node.s = node.up.s+getValueOfNode(node)\n",
    "            RTLpoints[node.name] = node.s\n",
    "        elif node.is_root():\n",
    "            node.s = getValueOfNode(node)\n",
    "        else:\n",
    "            node.s = node.up.s+getValueOfNode(node)\n",
    "    maxValue = max(RTLpoints.items(), key=lambda x: x[1])[1]\n",
    "    if maxValue == 0:\n",
    "        return None\n",
    "    else:\n",
    "        candids = [key for key in RTLpoints.keys() if RTLpoints[key]==maxValue]\n",
    "        return getLCA(candids,tree)"
   ]
  },
  {
   "cell_type": "code",
   "execution_count": 56,
   "metadata": {},
   "outputs": [
    {
     "name": "stdout",
     "output_type": "stream",
     "text": [
      "\n",
      "                          /-1592106\n",
      "                         |\n",
      "                    /392733-401053\n",
      "                   |     |\n",
      "                   |      \\-926566\n",
      "                   |\n",
      "                   |      /-1198114\n",
      "                   |-940557\n",
      "              /204434     \\-682795\n",
      "             |     |\n",
      "             |     |--2211140\n",
      "             |     |\n",
      "     /204432, 1    |--240015\n",
      "    |        |     |\n",
      "    |        |      \\-204669\n",
      "    |        |\n",
      "-57723        \\-234267\n",
      "    |\n",
      "    |--981222\n",
      "    |\n",
      "     \\-1855912\n"
     ]
    }
   ],
   "source": [
    "updateValueOfNode(tree,204432)\n",
    "print tree.get_ascii(attributes=[\"name\",\"value\"])"
   ]
  },
  {
   "cell_type": "markdown",
   "metadata": {},
   "source": [
    "the most important function in this notebook is this function.\n",
    "given the read into this function it give score to each node of tree for each kmer then after all score alignment it iterate preorder the tree and find each RTl for each leafs. then it return LCA of all the max values among that list"
   ]
  },
  {
   "cell_type": "code",
   "execution_count": 57,
   "metadata": {},
   "outputs": [],
   "source": [
    "def GetNodeOfreads(read,tree):\n",
    "    count = 0\n",
    "    oldkmer = \"\"\n",
    "    oldMinimizer = \"\"\n",
    "    error = 0\n",
    "    for i in range(len(read)-31+1):\n",
    "        kmer = read[i:i+31]\n",
    "        if count == 0:\n",
    "            minimizer = getMinimizer(kmer,const)\n",
    "            oldkmer = kmer\n",
    "            oldMinimizer = minimizer\n",
    "            Hmin = getHashedMinimizer(minimizer)\n",
    "            Hkmer = getHashedKmer(kmer)\n",
    "            try:\n",
    "                with h5py.File(\"../resources/index.hdf5\", \"r\") as f:\n",
    "                    dset = f[str(Hmin)+\"/list/\"]\n",
    "                    arr = np.array(dset)\n",
    "                    dicarr = {}\n",
    "                    for i in range(arr.shape[1]):\n",
    "                        dicarr[arr[0,i]]=arr[1,i]\n",
    "                    taxidOfKmer = dicarr[Hkmer]\n",
    "                    updateValueOfNode(tree,taxidOfKmer)\n",
    "            except KeyError:\n",
    "                taxidOfKmer = None\n",
    "                error+=1\n",
    "                \n",
    "        else:\n",
    "            flag,minimizer = updateMinimizer(kmer,oldkmer,oldMinimizer,const)\n",
    "            oldkmer = kmer\n",
    "            Hmin = getHashedMinimizer(minimizer)\n",
    "            Hkmer = getHashedKmer(kmer)\n",
    "            try:\n",
    "                if minimizer == oldMinimizer:\n",
    "                    taxidOfKmer = dicarr[Hkmer]\n",
    "                    updateValueOfNode(tree,taxidOfKmer)\n",
    "                else:\n",
    "                    with h5py.File(\"../resources/index.hdf5\", \"r\") as f:\n",
    "                        dset = f[str(Hmin)+\"/list/\"]\n",
    "                        arr = np.array(dset)\n",
    "                        dicarr = {}\n",
    "                        for i in range(arr.shape[1]):\n",
    "                            dicarr[arr[0,i]]=arr[1,i]\n",
    "                        taxidOfKmer = dicarr[Hkmer]\n",
    "                        updateValueOfNode(tree,taxidOfKmer)\n",
    "            except KeyError:\n",
    "                taxidOfKmer = None\n",
    "                error +=1\n",
    "            \n",
    "            oldMinimizer = minimizer\n",
    "        count += 1\n",
    "    return findRTLs(tree)"
   ]
  },
  {
   "cell_type": "markdown",
   "metadata": {},
   "source": [
    "## the main part of code\n",
    "in this part we use all the above function and give each read of test case to GetNodeOfreads.\n",
    "then we store all the taxids that it give us for each read in list and count all the reads that dont assign to any taxid"
   ]
  },
  {
   "cell_type": "code",
   "execution_count": 58,
   "metadata": {},
   "outputs": [
    {
     "name": "stdout",
     "output_type": "stream",
     "text": [
      "0%\n",
      "1%\n",
      "2%\n",
      "3%\n",
      "4%\n",
      "5%\n",
      "6%\n",
      "7%\n",
      "8%\n",
      "9%\n",
      "10%\n",
      "11%\n",
      "12%\n",
      "13%\n",
      "14%\n",
      "15%\n",
      "16%\n",
      "17%\n",
      "18%\n",
      "19%\n",
      "20%\n",
      "21%\n",
      "22%\n",
      "23%\n",
      "24%\n",
      "25%\n",
      "26%\n",
      "27%\n",
      "28%\n",
      "29%\n",
      "30%\n",
      "31%\n",
      "32%\n",
      "33%\n",
      "34%\n",
      "35%\n",
      "36%\n",
      "37%\n",
      "38%\n",
      "39%\n",
      "40%\n",
      "41%\n",
      "42%\n",
      "43%\n",
      "44%\n",
      "45%\n",
      "46%\n",
      "47%\n",
      "48%\n",
      "49%\n",
      "50%\n",
      "51%\n",
      "52%\n",
      "53%\n",
      "54%\n",
      "55%\n",
      "56%\n",
      "57%\n",
      "58%\n",
      "59%\n",
      "60%\n",
      "61%\n",
      "62%\n",
      "63%\n",
      "64%\n",
      "65%\n",
      "66%\n",
      "67%\n",
      "68%\n",
      "69%\n",
      "70%\n",
      "71%\n",
      "72%\n",
      "73%\n",
      "74%\n",
      "75%\n",
      "76%\n",
      "77%\n",
      "78%\n",
      "79%\n",
      "80%\n",
      "81%\n",
      "82%\n",
      "83%\n",
      "84%\n",
      "85%\n",
      "86%\n",
      "87%\n",
      "88%\n",
      "89%\n",
      "90%\n",
      "91%\n",
      "92%\n",
      "93%\n",
      "94%\n",
      "95%\n",
      "96%\n",
      "97%\n",
      "98%\n",
      "99%\n",
      "100%\n",
      "CPU times: user 1h 59min 29s, sys: 3min 1s, total: 2h 2min 31s\n",
      "Wall time: 59min 32s\n"
     ]
    }
   ],
   "source": [
    "%%time\n",
    "from Bio import SeqIO\n",
    "count = 0\n",
    "percent = 0\n",
    "unKnownReads = 0\n",
    "knownTaxids = []\n",
    "for record in SeqIO.parse(\"../sampleFastqFile/test_reads.fastq\", \"fastq\"):\n",
    "    tree =ncbi.get_topology(taxids)\n",
    "    taxidOfread = GetNodeOfreads(str(record.seq),tree)\n",
    "    if taxidOfread == None:\n",
    "        knownTaxids.append(\"unknown\")\n",
    "    else:\n",
    "        knownTaxids.append(str(taxidOfread))\n",
    "    if count%50 == 0:\n",
    "        print str(percent)+\"%\"\n",
    "        percent += 1\n",
    "    count +=1"
   ]
  },
  {
   "cell_type": "markdown",
   "metadata": {},
   "source": [
    "in this cell for each taxid we find number of reads that support that taxids. and then by normalization of these counts we can find the ratio of each taxid in our sample. then we can compare result to real abundancy that introduce in first cell"
   ]
  },
  {
   "cell_type": "code",
   "execution_count": 62,
   "metadata": {},
   "outputs": [
    {
     "name": "stdout",
     "output_type": "stream",
     "text": [
      "24.2460555223% of reads was from Acidisarcina polymorpha with taxid : 2211140\n",
      "6.03155582185% of reads was from Terriglobus roseus DSM 18391 with taxid : 926566\n",
      "9.3668863591% of reads was from Granulicella mallensis MP5ACTX8 with taxid : 682795\n",
      "7.62931895347% of reads was from Acidobacterium capsulatum ATCC 51196 with taxid : 240015\n",
      "3.09566606751% of reads was from Terriglobus albidus with taxid : 1592106\n",
      "14.8791691632% of reads was from Candidatus Solibacter usitatus Ellin6076 with taxid : 234267\n",
      "17.9548631915% of reads was from Luteitalea pratensis with taxid : 1855912\n",
      "3.43519073297% of reads was from Candidatus Koribacter versatilis Ellin345 with taxid : 204669\n",
      "0.619133213501% of reads was from Granulicella tundricola MP5ACTX9 with taxid : 1198114\n",
      "5.67205911724% of reads was from Chloracidobacterium thermophilum B with taxid : 981222\n",
      "7.0701018574% of reads was from Terriglobus saanensis SP1PR4 with taxid : 401053\n"
     ]
    }
   ],
   "source": [
    "d = dict(Counter(knownTaxids))\n",
    "total = sum(d.itervalues(), 0.0)\n",
    "dist = {k: v / total for k, v in d.iteritems()}\n",
    "for key,val in dist.iteritems():\n",
    "    if key == \"unknown\":\n",
    "        print str(dist[key]*100)+\"% of reads was from unknown organism in this tree\"\n",
    "    else:\n",
    "        print str(dist[key]*100)+\"% of reads was from \"+str(ncbi.get_taxid_translator([int(key)])[int(key)])+\" with taxid : \"+key"
   ]
  },
  {
   "cell_type": "markdown",
   "metadata": {},
   "source": [
    "the bar plot of our estimation"
   ]
  },
  {
   "cell_type": "code",
   "execution_count": 63,
   "metadata": {},
   "outputs": [
    {
     "data": {
      "image/png": "[encoded data removed]",
      "text/plain": [
       "<Figure size 432x288 with 1 Axes>"
      ]
     },
     "metadata": {
      "needs_background": "light"
     },
     "output_type": "display_data"
    }
   ],
   "source": [
    "keys = []\n",
    "vals = []\n",
    "for i in sorted (dist) : \n",
    "    keys.append(i)\n",
    "    vals.append(dist[i])\n",
    "plt.bar(keys,vals, color='g')\n",
    "plt.show()"
   ]
  },
  {
   "cell_type": "markdown",
   "metadata": {},
   "source": [
    "the bar plot of real ratio"
   ]
  },
  {
   "cell_type": "code",
   "execution_count": 64,
   "metadata": {},
   "outputs": [
    {
     "data": {
      "image/png": "[encoded data removed]",
      "text/plain": [
       "<Figure size 432x288 with 1 Axes>"
      ]
     },
     "metadata": {
      "needs_background": "light"
     },
     "output_type": "display_data"
    }
   ],
   "source": [
    "keys = []\n",
    "vals = []\n",
    "for i in sorted (realAbundaniesOfFile) : \n",
    "    keys.append(i)\n",
    "    vals.append(realAbundaniesOfFile[i])\n",
    "plt.bar(keys,vals, color='g')\n",
    "plt.show()"
   ]
  },
  {
   "cell_type": "markdown",
   "metadata": {},
   "source": [
    "as you can see there is exactly the same. because I simulate reads from all genomes in my tree. if I use for example human reads this two bar plot make differ"
   ]
  }
 ],
 "metadata": {
  "kernelspec": {
   "display_name": "Python 2",
   "language": "python",
   "name": "python2"
  },
  "language_info": {
   "codemirror_mode": {
    "name": "ipython",
    "version": 2
   },
   "file_extension": ".py",
   "mimetype": "text/x-python",
   "name": "python",
   "nbconvert_exporter": "python",
   "pygments_lexer": "ipython2",
   "version": "2.7.17"
  }
 },
 "nbformat": 4,
 "nbformat_minor": 2
}
